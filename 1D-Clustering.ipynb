{
  "nbformat": 4,
  "nbformat_minor": 0,
  "metadata": {
    "colab": {
      "name": "Patriot_One.ipynb",
      "version": "0.3.2",
      "provenance": [],
      "private_outputs": true,
      "include_colab_link": true
    },
    "kernelspec": {
      "name": "python3",
      "display_name": "Python 3"
    }
  },
  "cells": [
    {
      "cell_type": "markdown",
      "metadata": {
        "id": "view-in-github",
        "colab_type": "text"
      },
      "source": [
        "<a href=\"https://colab.research.google.com/github/sabyadg/Clustering1D-Data/blob/master/1D-Clustering.ipynb\" target=\"_parent\"><img src=\"https://colab.research.google.com/assets/colab-badge.svg\" alt=\"Open In Colab\"/></a>"
      ]
    },
    {
      "cell_type": "code",
      "metadata": {
        "id": "QRCBYY7PF5bI",
        "colab_type": "code",
        "colab": {}
      },
      "source": [
        "!ls"
      ],
      "execution_count": 0,
      "outputs": []
    },
    {
      "cell_type": "code",
      "metadata": {
        "id": "xcUTXVUMGFhf",
        "colab_type": "code",
        "colab": {}
      },
      "source": [
        "import numpy as np\n",
        "import pandas as pd"
      ],
      "execution_count": 0,
      "outputs": []
    },
    {
      "cell_type": "code",
      "metadata": {
        "id": "0BHwlgKJGgTO",
        "colab_type": "code",
        "colab": {}
      },
      "source": [
        "files=[\"2018-10-15_11-30-03-PASSTHROUGH-12-59-31.npy\",\n",
        "\"2018-10-15_11-31-41-PASSTHROUGH-12-59-31.npy\",\n",
        "\"2018-10-15_11-33-03-PASSTHROUGH-12-59-31.npy\",\n",
        "\"2018-10-15_11-36-36-PASSTHROUGH-12-59-31.npy\",\n",
        "\"2018-10-15_11-38-01-PASSTHROUGH-12-59-31.npy\",\n",
        "\"2018-10-15_11-39-18-PASSTHROUGH-12-59-31.npy\",\n",
        "\"2018-10-15_11-40-25-PASSTHROUGH-12-59-31.npy\",\n",
        "\"2018-10-15_11-44-00-PASSTHROUGH-12-59-31.npy\",\n",
        "\"2018-10-15_11-45-03-PASSTHROUGH-12-59-31.npy\",\n",
        "\"2018-10-15_11-48-43-PASSTHROUGH-12-59-31.npy\",\n",
        "\"2018-10-15_11-53-51-PASSTHROUGH-12-59-31.npy\",\n",
        "\"2018-10-15_11-55-18-PASSTHROUGH-12-59-31.npy\",\n",
        "\"2018-10-15_11-56-44-PASSTHROUGH-12-59-31.npy\",\n",
        "\"2018-10-15_12-02-56-PASSTHROUGH-12-59-31.npy\",\n",
        "\"2018-10-15_12-04-10-PASSTHROUGH-12-59-31.npy\",\n",
        "\"2018-10-15_12-05-27-PASSTHROUGH-12-59-31.npy\",\n",
        "\"2018-10-18_13-58-38-PASSTHROUGH-12-59-31.npy\",\n",
        "\"2018-10-18_14-00-47-PASSTHROUGH-12-59-31.npy\",\n",
        "\"2018-10-18_14-02-47-PASSTHROUGH-12-59-31.npy\",\n",
        "\"2018-10-18_14-05-15-PASSTHROUGH-12-59-31.npy\",\n",
        "\"2018-10-18_14-06-45-PASSTHROUGH-12-59-31.npy\",\n",
        "\"2018-10-18_14-07-48-PASSTHROUGH-12-59-31.npy\",\n",
        "\"2018-10-18_14-10-19-PASSTHROUGH-12-59-31.npy\",\n",
        "\"2018-10-18_14-11-51-PASSTHROUGH-12-59-31.npy\",\n",
        "\"2018-10-18_14-13-11-PASSTHROUGH-12-59-31.npy\",\n",
        "\"2018-10-18_14-18-15-PASSTHROUGH-12-59-31.npy\",\n",
        "\"2018-10-18_14-19-14-PASSTHROUGH-12-59-31.npy\",\n",
        "\"2018-10-18_14-20-19-PASSTHROUGH-12-59-31.npy\",\n",
        "\"2018-10-18_14-24-33-PASSTHROUGH-12-59-31.npy\",\n",
        "\"2018-10-18_14-25-40-PASSTHROUGH-12-59-31.npy\",\n",
        "\"2018-10-18_14-26-39-PASSTHROUGH-12-59-31.npy\",\n",
        "\"2018-10-18_14-29-51-PASSTHROUGH-12-59-31.npy\",\n",
        "\"2018-10-18_14-30-51-PASSTHROUGH-12-59-31.npy\",\n",
        "\"2018-10-18_14-32-01-PASSTHROUGH-12-59-31.npy\",\n",
        "\"2018-10-18_14-35-02-PASSTHROUGH-12-59-31.npy\",\n",
        "\"2018-10-18_14-36-01-PASSTHROUGH-12-59-31.npy\",\n",
        "\"2018-10-18_14-38-29-PASSTHROUGH-12-59-31.npy\",\n",
        "\"2018-10-18_14-54-45-PASSTHROUGH-12-59-31.npy\",\n",
        "\"2018-10-18_14-55-53-PASSTHROUGH-12-59-31.npy\",\n",
        "\"2018-10-18_14-56-57-PASSTHROUGH-12-59-31.npy\"]\n",
        "A = []\n",
        "for fname in files:\n",
        "    inf_from_every_file = np.load(fname)\n",
        "    A.append(inf_from_every_file)\n",
        "A = np.concatenate(A)"
      ],
      "execution_count": 0,
      "outputs": []
    },
    {
      "cell_type": "code",
      "metadata": {
        "id": "ubHIAFOfGjTL",
        "colab_type": "code",
        "colab": {}
      },
      "source": [
        "print(' No. of files' , len(files),'\\n' , 'No. of points in each file', A.shape[0]/len(files),'\\n' ,'Total no. of points', A.shape[0])"
      ],
      "execution_count": 0,
      "outputs": []
    },
    {
      "cell_type": "code",
      "metadata": {
        "id": "NdTcghMpIEvN",
        "colab_type": "code",
        "colab": {}
      },
      "source": [
        "raw_df = pd.DataFrame()\n",
        "raw_df['data']  = A\n",
        "#raw_df.head()\n",
        "raw_df.describe()"
      ],
      "execution_count": 0,
      "outputs": []
    },
    {
      "cell_type": "code",
      "metadata": {
        "id": "zncfLAEzI8sg",
        "colab_type": "code",
        "colab": {}
      },
      "source": [
        "import seaborn as sns\n",
        " \n",
        "#sns.distplot(raw_df['data'],kde=False, color = 'r')\n",
        "raw_df['normalized'] =   (raw_df['data'] - raw_df['data'].mean())/raw_df['data'].std()\n",
        " \n",
        "sns.distplot(raw_df['normalized'] , kde=False, color='b')"
      ],
      "execution_count": 0,
      "outputs": []
    },
    {
      "cell_type": "code",
      "metadata": {
        "id": "nMKHWtcSLR6o",
        "colab_type": "code",
        "colab": {}
      },
      "source": [
        "raw_df.quantile([0.01,0.05,0.95, 0.99])"
      ],
      "execution_count": 0,
      "outputs": []
    },
    {
      "cell_type": "code",
      "metadata": {
        "id": "Q0dpG2SWNxhP",
        "colab_type": "code",
        "colab": {}
      },
      "source": [
        "#del(raw_df_5_95q)\n",
        "raw_df_5_95q = raw_df.query('normalized > -0.289080  & normalized <0.31')\n",
        "print('No. of Points to model', raw_df_5_95q.shape[0])\n",
        "sns.distplot(raw_df_5_95q['normalized'],kde=False,color='r')"
      ],
      "execution_count": 0,
      "outputs": []
    },
    {
      "cell_type": "code",
      "metadata": {
        "id": "qgHPVCiwQe6p",
        "colab_type": "code",
        "colab": {}
      },
      "source": [
        "raw_df_L = raw_df.query('normalized < -0.289080')\n",
        "print('No. of points in the Left axis, which will not be modelled are ',raw_df_L.shape[0])\n",
        "sns.distplot(raw_df_L['data'],kde=False,color='b')\n",
        "raw_df_R = raw_df.query('normalized > 0.31')\n",
        "print('No. of points in the Right axis, which will not be modelled are ', raw_df_R.shape[0])\n",
        "sns.distplot(raw_df_R['data'],kde=False,color='g')"
      ],
      "execution_count": 0,
      "outputs": []
    },
    {
      "cell_type": "code",
      "metadata": {
        "id": "b131fsbVRUJ5",
        "colab_type": "code",
        "colab": {}
      },
      "source": [
        "clean_df = raw_df_5_95q.copy(deep=True)\n",
        "clean_df.head()"
      ],
      "execution_count": 0,
      "outputs": []
    },
    {
      "cell_type": "code",
      "metadata": {
        "id": "xdiY5yBiUeZA",
        "colab_type": "code",
        "colab": {}
      },
      "source": [
        "from sklearn.cluster import KMeans as km\n",
        "from sklearn import metrics\n",
        "from sklearn.preprocessing import StandardScaler\n",
        "X = np.array(clean_df['data']).reshape(-1, 1)\n",
        "X = StandardScaler().fit_transform(X)\n",
        "sns.distplot(X,kde=False)\n",
        "X.shape[0]"
      ],
      "execution_count": 0,
      "outputs": []
    },
    {
      "cell_type": "code",
      "metadata": {
        "id": "yR9j4mkgVMpv",
        "colab_type": "code",
        "colab": {}
      },
      "source": [
        "import time\n",
        "import matplotlib.pyplot as plt\n",
        "from sklearn.cluster import MiniBatchKMeans, KMeans\n",
        "from sklearn.metrics.pairwise import pairwise_distances_argmin\n",
        "\n",
        "# #############################################################################\n",
        "# Compute clustering with Means\n",
        "\n",
        "k_means = KMeans(init='k-means++', n_clusters=3, n_init=10)\n",
        "t0 = time.time()\n",
        "k_means.fit(X)\n",
        "t_batch = time.time() - t0\n",
        "\n",
        "# #############################################################################\n",
        "# Compute clustering with MiniBatchKMeans\n",
        "batch_size=X.shape[0]\n",
        "mbk = MiniBatchKMeans(init='k-means++', n_clusters=3, batch_size=batch_size,\n",
        "                      n_init=10, max_no_improvement=10, verbose=0)\n",
        "t0 = time.time()\n",
        "mbk.fit(X)\n",
        "t_mini_batch = time.time() - t0"
      ],
      "execution_count": 0,
      "outputs": []
    },
    {
      "cell_type": "code",
      "metadata": {
        "id": "7jU74Er0Y3bT",
        "colab_type": "code",
        "colab": {}
      },
      "source": [
        "fig = plt.figure(figsize=(8, 3))\n",
        "fig.subplots_adjust(left=0.02, right=0.98, bottom=0.05, top=0.9)\n",
        "colors = ['#4EACC5', '#FF9C34', '#4E9A06']\n",
        "n_clusters = 3\n",
        "# We want to have the same colors for the same cluster from the\n",
        "# MiniBatchKMeans and the KMeans algorithm. Let's pair the cluster centers per\n",
        "# closest one.\n",
        "k_means_cluster_centers = np.sort(k_means.cluster_centers_, axis=0)\n",
        "mbk_means_cluster_centers = np.sort(mbk.cluster_centers_, axis=0)\n",
        "k_means_labels = pairwise_distances_argmin(X, k_means_cluster_centers)\n",
        "mbk_means_labels = pairwise_distances_argmin(X, mbk_means_cluster_centers)\n",
        "order = pairwise_distances_argmin(k_means_cluster_centers,\n",
        "                                  mbk_means_cluster_centers)\n",
        "\n",
        "# KMeans\n",
        "ax = fig.add_subplot(1, 3, 1)\n",
        "for k, col in zip(range(n_clusters), colors):\n",
        "    my_members = k_means_labels == k\n",
        "    cluster_center = k_means_cluster_centers[k]\n",
        "    ax.plot(X[my_members, 0], 'w',\n",
        "            markerfacecolor=col, marker='.')\n",
        "    ax.plot(cluster_center[0],   'o', markerfacecolor=col,\n",
        "            markeredgecolor='k', markersize=6)\n",
        "ax.set_title('KMeans')\n",
        "ax.set_xticks(())\n",
        "ax.set_yticks(())\n",
        "#plt.text(-3.5, 1.8,  'train time: %.2fs\\ninertia: %f' % (\n",
        "#    t_batch, k_means.inertia_))\n",
        "#\n",
        "# MiniBatchKMeans\n",
        "ax = fig.add_subplot(1, 3, 2)\n",
        "for k, col in zip(range(n_clusters), colors):\n",
        "    my_members = mbk_means_labels == order[k]\n",
        "    cluster_center = mbk_means_cluster_centers[order[k]]\n",
        "    ax.plot(X[my_members, 0],  'w',\n",
        "            markerfacecolor=col, marker='.')\n",
        "    ax.plot(cluster_center[0],   'o', markerfacecolor=col,\n",
        "            markeredgecolor='k', markersize=6)\n",
        "ax.set_title('MiniBatchKMeans')\n",
        "ax.set_xticks(())\n",
        "ax.set_yticks(())\n",
        "#plt.text(-3.5, 1.8, 'train time: %.2fs\\ninertia: %f' %\n",
        "#         (t_mini_batch, mbk.inertia_))\n",
        "\n",
        "# Initialise the different array to all False\n",
        "different = (mbk_means_labels == 4)\n",
        "ax = fig.add_subplot(1, 3, 3)\n",
        "\n",
        "for k in range(n_clusters):\n",
        "    different += ((k_means_labels == k) != (mbk_means_labels == order[k]))\n",
        "\n",
        "identic = np.logical_not(different)\n",
        "ax.plot(X[identic, 0], 'w',\n",
        "        markerfacecolor='#bbdfbb', marker='.')\n",
        "ax.plot(X[different, 0], 'w',\n",
        "        markerfacecolor='m', marker='.')\n",
        "ax.set_title('Difference')\n",
        "ax.set_xticks(())\n",
        "ax.set_yticks(())\n",
        "\n",
        "plt.show()"
      ],
      "execution_count": 0,
      "outputs": []
    },
    {
      "cell_type": "code",
      "metadata": {
        "id": "nLJzpXwqaeeI",
        "colab_type": "code",
        "colab": {}
      },
      "source": [
        "clean_df['kmeans-labels'] =  k_means_labels\n",
        "clean_df['mini-batch-kmeans-labels'] =  mbk_means_labels"
      ],
      "execution_count": 0,
      "outputs": []
    },
    {
      "cell_type": "code",
      "metadata": {
        "id": "eDsUyJvmcf_Z",
        "colab_type": "code",
        "colab": {}
      },
      "source": [
        "clean_df.groupby('kmeans-labels').data.count()\n",
        "sns.distplot(clean_df['kmeans-labels'],kde=False)\n",
        "\n",
        "#clean_df.groupby('mini-batch-kmeans-labels').data.count()\n",
        "#sns.distplot(clean_df['mini-batch-kmeans-labels'],kde=False)\n"
      ],
      "execution_count": 0,
      "outputs": []
    },
    {
      "cell_type": "code",
      "metadata": {
        "id": "XZpOCJ-Leul9",
        "colab_type": "code",
        "colab": {}
      },
      "source": [
        "sns.distplot(clean_df[clean_df['kmeans-labels'] == 0]['normalized'], color = 'r')\n",
        "sns.distplot(clean_df[clean_df['kmeans-labels'] == 1]['normalized'], color = 'b')\n",
        "sns.distplot(clean_df[clean_df['kmeans-labels'] == 2]['normalized'], color = 'g')"
      ],
      "execution_count": 0,
      "outputs": []
    },
    {
      "cell_type": "code",
      "metadata": {
        "id": "Sdu2MrWbhEoa",
        "colab_type": "code",
        "colab": {}
      },
      "source": [
        "sns.distplot(clean_df[clean_df['kmeans-labels'] == 0]['data'], color = 'r')\n",
        "sns.distplot(clean_df[clean_df['kmeans-labels'] == 1]['data'], color = 'b')\n",
        "sns.distplot(clean_df[clean_df['kmeans-labels'] == 2]['data'], color = 'g')"
      ],
      "execution_count": 0,
      "outputs": []
    }
  ]
}